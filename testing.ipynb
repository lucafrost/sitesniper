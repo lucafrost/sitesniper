{
 "cells": [
  {
   "cell_type": "code",
   "execution_count": 8,
   "metadata": {},
   "outputs": [
    {
     "name": "stdout",
     "output_type": "stream",
     "text": [
      "\u001b[38;5;4mℹ IANA.org TLDs: Version 2022071002, Last Updated Mon Jul 11 07:07:01\n",
      "2022 UTC\u001b[0m\n",
      "\u001b[38;5;2m✔ 1487 TLDs found\u001b[0m\n",
      "\u001b[38;5;2m✔ Returned list of TLDs\u001b[0m\n"
     ]
    }
   ],
   "source": [
    "# imports & dependencies\n",
    "from platform import release\n",
    "import pandas as pd\n",
    "import requests\n",
    "from wasabi import msg\n",
    "import dateutil.parser as dparser\n",
    "import datetime\n",
    "\n",
    "# get list of current TLDs from IANA / ICANN\n",
    "def fetch(list=True, df=False, csv=False, csv_path=None):\n",
    "    get = requests.get('https://data.iana.org/TLD/tlds-alpha-by-domain.txt')\n",
    "    tlds = get.text.split('\\n')\n",
    "    release = tlds[0].replace('# ', '')\n",
    "    msg.info(f'IANA.org TLDs: {release}')\n",
    "    tlds.pop(0)\n",
    "    msg.loading()\n",
    "    tlds = [x for x in tlds if x]\n",
    "    msg.good(f'{len(tlds)} TLDs found')\n",
    "    if list:\n",
    "        msg.good('Returned list of TLDs')\n",
    "        return tlds\n",
    "    if df:\n",
    "        df = pd.DataFrame(tlds, columns=['tld'])\n",
    "        msg.good(f'TLD DataFrame created')\n",
    "        return df\n",
    "    if csv:\n",
    "        if csv_path:\n",
    "            df = pd.DataFrame(tlds, columns=['tld'])\n",
    "            df.to_csv(csv_path, index=False)\n",
    "            msg.good(f'CSV saved to {csv_path}')\n",
    "        else:\n",
    "            msg.error('No CSV path provided')\n",
    "            return False\n",
    "\n",
    "tlds = fetch(list=True)"
   ]
  }
 ],
 "metadata": {
  "kernelspec": {
   "display_name": "Python 3.6.13 ('jupyter')",
   "language": "python",
   "name": "python3"
  },
  "language_info": {
   "codemirror_mode": {
    "name": "ipython",
    "version": 3
   },
   "file_extension": ".py",
   "mimetype": "text/x-python",
   "name": "python",
   "nbconvert_exporter": "python",
   "pygments_lexer": "ipython3",
   "version": "3.6.13"
  },
  "orig_nbformat": 4,
  "vscode": {
   "interpreter": {
    "hash": "4d4bbbffcea9d30e3d588c879682be3a81204a4462ce6580b95538c9588111a4"
   }
  }
 },
 "nbformat": 4,
 "nbformat_minor": 2
}
